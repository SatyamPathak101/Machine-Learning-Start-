{
 "cells": [
  {
   "cell_type": "code",
   "execution_count": null,
   "id": "5f2a52f7",
   "metadata": {},
   "outputs": [],
   "source": [
    "#Function (reusable, consize code)\n",
    "def function_name(inout_parameters):\n",
    "    do something\n",
    "    return result"
   ]
  },
  {
   "cell_type": "code",
   "execution_count": 1,
   "id": "148d585a",
   "metadata": {},
   "outputs": [
    {
     "data": {
      "text/plain": [
       "100"
      ]
     },
     "execution_count": 1,
     "metadata": {},
     "output_type": "execute_result"
    }
   ],
   "source": [
    "def square(a):\n",
    "    sq = a*a\n",
    "    return sq\n",
    "\n",
    "square(10)"
   ]
  },
  {
   "cell_type": "code",
   "execution_count": 2,
   "id": "bd128d09",
   "metadata": {},
   "outputs": [
    {
     "name": "stdout",
     "output_type": "stream",
     "text": [
      "Number of Combinations =210.0\n"
     ]
    }
   ],
   "source": [
    "n = 10\n",
    "r = 6\n",
    "\n",
    "fact_n = 1\n",
    "for i in range(1,n+1):\n",
    "    fact_n = fact_n * i\n",
    "    \n",
    "fact_r = 1\n",
    "for i in range(1,r+1):\n",
    "    fact_r = fact_r * i\n",
    "    \n",
    "fact_n_r = 1\n",
    "for i in range(1,(n-r)+1):\n",
    "    fact_n_r = fact_n_r * i\n",
    "    \n",
    "C = fact_n/(fact_r * (fact_n_r))\n",
    "print(\"Number of Combinations =\" + str (C))"
   ]
  },
  {
   "cell_type": "code",
   "execution_count": 6,
   "id": "5a5a27dc",
   "metadata": {},
   "outputs": [
    {
     "name": "stdout",
     "output_type": "stream",
     "text": [
      "Number of Combination =210.0\n"
     ]
    }
   ],
   "source": [
    "def factorial(value):\n",
    "    fact = 1\n",
    "    for i in range(1,value+1):\n",
    "        fact = fact* i\n",
    "    return fact\n",
    "n = 10\n",
    "r = 6\n",
    "\n",
    "C = factorial(n)/(factorial(r)*factorial(n-r))\n",
    "print(\"Number of Combination =\"+ str(C))"
   ]
  },
  {
   "cell_type": "code",
   "execution_count": null,
   "id": "62930a4e",
   "metadata": {},
   "outputs": [],
   "source": []
  }
 ],
 "metadata": {
  "kernelspec": {
   "display_name": "Python 3 (ipykernel)",
   "language": "python",
   "name": "python3"
  },
  "language_info": {
   "codemirror_mode": {
    "name": "ipython",
    "version": 3
   },
   "file_extension": ".py",
   "mimetype": "text/x-python",
   "name": "python",
   "nbconvert_exporter": "python",
   "pygments_lexer": "ipython3",
   "version": "3.9.13"
  }
 },
 "nbformat": 4,
 "nbformat_minor": 5
}
